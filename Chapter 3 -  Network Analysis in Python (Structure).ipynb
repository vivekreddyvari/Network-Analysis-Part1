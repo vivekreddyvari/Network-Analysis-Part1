{
 "cells": [
  {
   "cell_type": "markdown",
   "metadata": {},
   "source": [
    "## Chapter 3\n",
    "\n",
    "#### Structure\n",
    "\n",
    "##### Cliques and Communites:\n",
    "\n",
    "- pathfinding and finding neighbors\n",
    "- What is clique? : Narrow exclusive circle or bunch of people who know each other\n",
    "    - tightly knit-group\n",
    "- Network Cliques - Complety connected graph.\n",
    "- Simplest Complex Clique - Triangle (Edges connected in triangle)\n",
    "- Triangle applications\n",
    "    - Freind recommendation systems\n",
    "    - Linkedin, Facebook\n",
    "    "
   ]
  },
  {
   "cell_type": "code",
   "execution_count": 36,
   "metadata": {},
   "outputs": [
    {
     "name": "stdout",
     "output_type": "stream",
     "text": [
      "Nodes of graph: \n",
      "['Toronto', 'London', 'Berlin', 'New York', 'New Delhi', 'Amsterdam']\n",
      "Edges of graph: \n",
      "[('Toronto', 'London'), ('London', 'Berlin'), ('Berlin', 'New York'), ('New York', 'New Delhi'), ('New Delhi', 'Amsterdam')]\n",
      "Combinations n1 and n2: 1 ('Toronto', 'London')\n",
      "Combinations n1 and n2: 2 ('Toronto', 'Berlin')\n",
      "Combinations n1 and n2: 3 ('Toronto', 'New York')\n",
      "Combinations n1 and n2: 4 ('Toronto', 'New Delhi')\n",
      "Combinations n1 and n2: 5 ('Toronto', 'Amsterdam')\n",
      "Combinations n1 and n2: 6 ('London', 'Berlin')\n",
      "Combinations n1 and n2: 7 ('London', 'New York')\n",
      "Combinations n1 and n2: 8 ('London', 'New Delhi')\n",
      "Combinations n1 and n2: 9 ('London', 'Amsterdam')\n",
      "Combinations n1 and n2: 10 ('Berlin', 'New York')\n",
      "Combinations n1 and n2: 11 ('Berlin', 'New Delhi')\n",
      "Combinations n1 and n2: 12 ('Berlin', 'Amsterdam')\n",
      "Combinations n1 and n2: 13 ('New York', 'New Delhi')\n",
      "Combinations n1 and n2: 14 ('New York', 'Amsterdam')\n",
      "Combinations n1 and n2: 15 ('New Delhi', 'Amsterdam')\n"
     ]
    },
    {
     "data": {
      "image/png": "[encoded data removed]",
      "text/plain": [
       "<Figure size 432x288 with 1 Axes>"
      ]
     },
     "metadata": {},
     "output_type": "display_data"
    }
   ],
   "source": [
    "# Clique Code\n",
    "\n",
    "import networkx as nx\n",
    "import matplotlib.pyplot as plt\n",
    "\n",
    "# from itertools import combinations\n",
    "from itertools import combinations\n",
    "\n",
    "# Make graph with by random countries and it's capitals\n",
    "G=nx.path_graph([\"Canada\",\"UK\",\"Germany\",\"USA\",\"India\",\"Netherlands\"])\n",
    "cities = {\"Canada\":\"Toronto\",\n",
    "          \"UK\":\"London\", \n",
    "          \"Germany\":\"Berlin\",\n",
    "          \"USA\":\"New York\", \n",
    "          \"India\":\"New Delhi\",\n",
    "          \"Netherlands\":\"Amsterdam\"}\n",
    "\n",
    "# Combine the graphs\n",
    "H=nx.relabel_nodes(G,cities)\n",
    "print(\"Nodes of graph: \")\n",
    "print(H.nodes())\n",
    "print(\"Edges of graph: \")\n",
    "print(H.edges())\n",
    "\n",
    "# make a combination\n",
    "k = 0\n",
    "for n1, n2 in combinations(H.nodes(), 2):\n",
    "    k = k + 1\n",
    "    print('Combinations n1 and n2:',  k , (n1,n2))\n",
    "\n",
    "nx.draw(H, with_labels=True)\n",
    "plt.show()"
   ]
  },
  {
   "cell_type": "markdown",
   "metadata": {},
   "source": [
    "Identifying triangle relationships\n",
    "Now that you've learned about cliques, it's time to try leveraging what you know to find structures in a network. Triangles are what you'll go for first. We may be interested in triangles because they're the simplest complex clique. Let's write a few functions; these exercises will bring you through the fundamental logic behind network algorithms.\n",
    "\n",
    "In the Twitter network, each node has an 'occupation' label associated with it, in which the Twitter user's work occupation is divided into celebrity, politician and scientist. One potential application of triangle-finding algorithms is to find out whether users that have similar occupations are more likely to be in a clique with one another."
   ]
  },
  {
   "cell_type": "code",
   "execution_count": null,
   "metadata": {},
   "outputs": [],
   "source": [
    "from itertools import combinations\n",
    "\n",
    "# Define is_in_triangle()\n",
    "def is_in_triangle(G, n):\n",
    "    \"\"\"\n",
    "    Checks whether a node `n` in graph `G` is in a triangle relationship or not.\n",
    "\n",
    "    Returns a boolean.\n",
    "    \"\"\"\n",
    "    in_triangle = False\n",
    "\n",
    "    # Iterate over all possible triangle relationship combinations\n",
    "    for n1, n2 in combinations(G.neighbors(n), 2):\n",
    "\n",
    "        # Check if an edge exists between n1 and n2\n",
    "        if G.has_edge(n1, n2):\n",
    "            in_triangle = True\n",
    "            break\n",
    "    return in_triangle"
   ]
  },
  {
   "cell_type": "markdown",
   "metadata": {},
   "source": [
    "Finding nodes involved in triangles\n",
    "NetworkX provides an API for counting the number of triangles that every node is involved in: nx.triangles(G). It returns a dictionary of nodes as the keys and number of triangles as the values. Your job in this exercise is to modify the function defined earlier to extract all of the nodes involved in a triangle relationship with a given node."
   ]
  },
  {
   "cell_type": "code",
   "execution_count": null,
   "metadata": {},
   "outputs": [],
   "source": [
    "from itertools import combinations\n",
    "\n",
    "# Write a function that identifies all nodes in a triangle relationship with a given node.\n",
    "def nodes_in_triangle(G, n):\n",
    "    \"\"\"\n",
    "    Returns the nodes in a graph `G` that are involved in a triangle relationship with the node `n`.\n",
    "    \"\"\"\n",
    "    triangle_nodes = set([n])\n",
    "\n",
    "    # Iterate over all possible triangle relationship combinations\n",
    "    for n1, n2 in combinations(G.neighbors(n), 2):\n",
    "\n",
    "        # Check if n1 and n2 have an edge between them\n",
    "        if G.has_edge(n1, n2):\n",
    "\n",
    "            # Add n1 to triangle_nodes\n",
    "            triangle_nodes.add(n1)\n",
    "\n",
    "            # Add n2 to triangle_nodes\n",
    "            triangle_nodes.add(n2)\n",
    "\n",
    "    return triangle_nodes\n",
    "\n",
    "# Write the assertion statement\n",
    "assert len(nodes_in_triangle(T, 1)) == 35"
   ]
  },
  {
   "cell_type": "markdown",
   "metadata": {},
   "source": [
    "Finding open triangles\n",
    "Let us now move on to finding open triangles! Recall that they form the basis of friend recommendation systems; if \"A\" knows \"B\" and \"A\" knows \"C\", then it's probable that \"B\" also knows \"C\"."
   ]
  },
  {
   "cell_type": "code",
   "execution_count": null,
   "metadata": {},
   "outputs": [],
   "source": [
    "\n",
    "from itertools import combinations\n",
    "\n",
    "# Define node_in_open_triangle()\n",
    "def node_in_open_triangle(G, n):\n",
    "    \"\"\"\n",
    "    Checks whether pairs of neighbors of node `n` in graph `G` are in an 'open triangle' relationship with node `n`.\n",
    "    \"\"\"\n",
    "    in_open_triangle = False\n",
    "\n",
    "    # Iterate over all possible triangle relationship combinations\n",
    "    for n1, n2 in combinations(G.neighbors(n), 2):\n",
    "\n",
    "        # Check if n1 and n2 do NOT have an edge between them\n",
    "        if not G.has_edge(n1,n2):\n",
    "\n",
    "            in_open_triangle = True\n",
    "\n",
    "            break\n",
    "\n",
    "    return in_open_triangle\n",
    "\n",
    "# Compute the number of open triangles in T\n",
    "num_open_triangles = 0\n",
    "\n",
    "# Iterate over all the nodes in T\n",
    "for n in T.nodes():\n",
    "\n",
    "    # Check if the current node is in an open triangle\n",
    "    if node_in_open_triangle(T, n):\n",
    "\n",
    "        # Increment num_open_triangles\n",
    "        num_open_triangles += 1\n",
    "\n",
    "print(num_open_triangles)"
   ]
  },
  {
   "cell_type": "markdown",
   "metadata": {},
   "source": [
    "#### Maximal Cliques\n",
    "- Maximal Cliques: a clique that, when extended by one node is no longer a clique.\n",
    "    - Can be used in community finding applications\n",
    "    - Communities: Sub-graphs with in larger graph\n",
    "    - Find Unions of cliques.\n",
    "\n",
    "##### Networkx API\n",
    "- find_cliques finds all maximal cliques\n"
   ]
  },
  {
   "cell_type": "code",
   "execution_count": 34,
   "metadata": {},
   "outputs": [
    {
     "name": "stdout",
     "output_type": "stream",
     "text": [
      "<generator object find_cliques at 0xa188a9b10>\n",
      "[[4, 0, 1, 2, 3], [4, 5], [6, 5], [6, 7, 8, 9, 10]]\n"
     ]
    },
    {
     "data": {
      "image/png": "[encoded data removed]",
      "text/plain": [
       "<Figure size 432x288 with 1 Axes>"
      ]
     },
     "metadata": {},
     "output_type": "display_data"
    }
   ],
   "source": [
    "# Barbell graph example\n",
    "\n",
    "import networkx as nx\n",
    "import matplotlib.pyplot as plt\n",
    "\n",
    "# Define graph\n",
    "G = nx.barbell_graph(m1=5, m2=1)\n",
    "\n",
    "# find the cliques (find_cliques)\n",
    "print(nx.find_cliques(G))\n",
    "print(list(nx.find_cliques(G)))\n",
    "\n",
    "# Draw Graph and show\n",
    "nx.draw(G, with_labels=True)\n",
    "plt.show()\n"
   ]
  },
  {
   "cell_type": "markdown",
   "metadata": {},
   "source": [
    "Finding all maximal cliques of size \"n\"\n",
    "Now that you've explored triangles (and open triangles), let's move on to the concept of maximal cliques. Maximal cliques are cliques that cannot be extended by adding an adjacent edge, and are a useful property of the graph when finding communities. NetworkX provides a function that allows you to identify the nodes involved in each maximal clique in a graph: nx.find_cliques(G). Play around with the function by using it on T in the IPython Shell, and then try answering the exercise."
   ]
  },
  {
   "cell_type": "code",
   "execution_count": null,
   "metadata": {},
   "outputs": [],
   "source": [
    "# Define maximal_cliques()\n",
    "def maximal_cliques(G, size):\n",
    "    \"\"\"\n",
    "    Finds all maximal cliques in graph `G` that are of size `size`.\n",
    "    \"\"\"\n",
    "    mcs = []\n",
    "    for clique in nx.find_cliques(G):\n",
    "        if len(clique) == size:\n",
    "            mcs.append(clique)\n",
    "    return mcs\n",
    "\n",
    "# Check that there are 33 maximal cliques of size 3 in the graph T\n",
    "assert len(maximal_cliques(T, 3)) == 33\n"
   ]
  },
  {
   "cell_type": "markdown",
   "metadata": {},
   "source": [
    "#### Subgraphs\n",
    "- Visualize portions of a large graph\n",
    "    - Paths.\n",
    "    - Communities/cliques\n",
    "    - Degrees of separation from a node\n"
   ]
  },
  {
   "cell_type": "code",
   "execution_count": 33,
   "metadata": {},
   "outputs": [
    {
     "name": "stdout",
     "output_type": "stream",
     "text": [
      "Number of Nodes: [0, 1, 2, 3, 4, 5, 6, 7, 8, 9, 10, 11, 12, 13, 14, 15, 16, 17, 18, 19]\n",
      "Number of edges: [(0, 1), (0, 6), (0, 12), (0, 17), (0, 18), (0, 19), (1, 3), (1, 9), (1, 15), (1, 17), (1, 18), (2, 10), (2, 14), (3, 4), (3, 5), (3, 13), (3, 14), (4, 13), (4, 15), (4, 19), (5, 6), (5, 8), (5, 11), (5, 12), (5, 16), (6, 7), (6, 9), (6, 18), (7, 12), (7, 17), (8, 15), (8, 16), (9, 14), (9, 15), (9, 16), (9, 18), (10, 12), (10, 14), (10, 16), (11, 12), (11, 16), (12, 13), (13, 17), (13, 19), (14, 17), (14, 19), (15, 19), (17, 19), (18, 19)]\n",
      "Number of edges in number: 49\n",
      "Nodes: <dict_keyiterator object at 0xa18ad68b8>\n"
     ]
    },
    {
     "data": {
      "image/png": "[encoded data removed]",
      "text/plain": [
       "<Figure size 432x288 with 1 Axes>"
      ]
     },
     "metadata": {},
     "output_type": "display_data"
    }
   ],
   "source": [
    "# Example Subgraphs\n",
    "import networkx as nx\n",
    "\n",
    "# assign to erdos_renyi_graph function, n = nodes, and probability  = 0.2\n",
    "G = nx.erdos_renyi_graph(n=20, p=0.2)\n",
    "\n",
    "# See the nodes\n",
    "print('Number of Nodes:', G.nodes())\n",
    "\n",
    "# See the number of edges\n",
    "print(\"Number of edges:\", G.edges())\n",
    "print(\"Number of edges in number:\", len(G.edges()))\n",
    "\n",
    "# See the neighbors\n",
    "nodes = G.neighbors(8)\n",
    "print(\"Nodes:\", nodes)\n",
    "\n",
    "# To see the sub-graph of nodes\n",
    "# nodes.append(8)\n",
    "\n",
    "# Subgraph function G.subgraph(nodes)\n",
    "G_eight = G.subgraph(nodes)\n",
    "\n",
    "# check the nodes of G_eight\n",
    "G_eight.edges()\n",
    "\n",
    "# Draw the graph of the subgraph\n",
    "nx.draw(G_eight, with_labels=True)\n"
   ]
  },
  {
   "cell_type": "markdown",
   "metadata": {},
   "source": [
    "Subgraphs I\n",
    "There may be times when you just want to analyze a subset of nodes in a network. To do so, you can copy them out into another graph object using G.subgraph(nodes), which returns a new graph object (of the same type as the original graph) that is comprised of the iterable of nodes that was passed in.\n",
    "\n",
    "matplotlib.pyplot has been imported for you as plt."
   ]
  },
  {
   "cell_type": "code",
   "execution_count": null,
   "metadata": {},
   "outputs": [],
   "source": [
    "nodes_of_interest = [29, 38, 42]\n",
    "\n",
    "# Define get_nodes_and_nbrs()\n",
    "def get_nodes_and_nbrs(G, nodes_of_interest):\n",
    "    \"\"\"\n",
    "    Returns a subgraph of the graph `G` with only the `nodes_of_interest` and their neighbors.\n",
    "    \"\"\"\n",
    "    nodes_to_draw = []\n",
    "\n",
    "    # Iterate over the nodes of interest\n",
    "    for n in nodes_of_interest:\n",
    "\n",
    "        # Append the nodes of interest to nodes_to_draw\n",
    "        nodes_to_draw.append(n)\n",
    "\n",
    "        # Iterate over all the neighbors of node n\n",
    "        for nbr in G.neighbors(n):\n",
    "\n",
    "            # Append the neighbors of n to nodes_to_draw\n",
    "            nodes_to_draw.append(nbr)\n",
    "\n",
    "    return G.subgraph(nodes_to_draw)\n",
    "\n",
    "# Extract the subgraph with the nodes of interest: T_draw\n",
    "T_draw = get_nodes_and_nbrs(T, nodes_of_interest)\n",
    "\n",
    "# Draw the subgraph to the screen\n",
    "nx.draw(T_draw, with_labels=True)\n",
    "plt.show()"
   ]
  },
  {
   "cell_type": "markdown",
   "metadata": {},
   "source": [
    "Exercise\n",
    "Exercise\n",
    "Subgraphs II\n",
    "In the previous exercise, we gave you a list of nodes whose neighbors we asked you to extract.\n",
    "\n",
    "Let's try one more exercise in which you extract nodes that have a particular metadata property and their neighbors. This should hark back to what you've learned about using list comprehensions to find nodes. The exercise will also build your capacity to compose functions that you've already written before."
   ]
  },
  {
   "cell_type": "code",
   "execution_count": null,
   "metadata": {},
   "outputs": [],
   "source": [
    "# Extract the nodes of interest: nodes\n",
    "nodes = [n for n, d in T.nodes(data=True) if d['occupation'] == 'celebrity']\n",
    "\n",
    "# Create the set of nodes: nodeset\n",
    "nodeset = set(nodes)\n",
    "\n",
    "# Iterate over nodes\n",
    "for n in nodes:\n",
    "\n",
    "    # Compute the neighbors of n: nbrs\n",
    "    nbrs = T.neighbors(n)\n",
    "\n",
    "    # Compute the union of nodeset and nbrs: nodeset\n",
    "    nodeset = nodeset.union(nbrs)\n",
    "\n",
    "# Compute the subgraph using nodeset: T_sub\n",
    "T_sub = T.subgraph(nodeset)\n",
    "\n",
    "# Draw T_sub to the screen\n",
    "nx.draw(T_sub)\n",
    "plt.show()"
   ]
  },
  {
   "cell_type": "markdown",
   "metadata": {},
   "source": [
    "Finding important collaborators\n",
    "Almost there! You'll now look at important nodes once more. Here, you'll make use of the degree_centrality() and betweenness_centrality() functions in NetworkX to compute each of the respective centrality scores, and then use that information to find the \"important nodes\". In other words, your job in this exercise is to find the user(s) that have collaborated with the most number of users."
   ]
  },
  {
   "cell_type": "code",
   "execution_count": null,
   "metadata": {},
   "outputs": [],
   "source": []
  }
 ],
 "metadata": {
  "kernelspec": {
   "display_name": "Python 3",
   "language": "python",
   "name": "python3"
  },
  "language_info": {
   "codemirror_mode": {
    "name": "ipython",
    "version": 3
   },
   "file_extension": ".py",
   "mimetype": "text/x-python",
   "name": "python",
   "nbconvert_exporter": "python",
   "pygments_lexer": "ipython3",
   "version": "3.7.1"
  }
 },
 "nbformat": 4,
 "nbformat_minor": 2
}
